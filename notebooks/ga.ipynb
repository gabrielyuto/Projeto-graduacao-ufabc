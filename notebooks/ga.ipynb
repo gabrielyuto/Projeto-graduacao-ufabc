{
 "cells": [
  {
   "cell_type": "code",
   "execution_count": null,
   "metadata": {},
   "outputs": [],
   "source": [
    "def gen_init_pop():\n",
    "  # Generate the initial population between 0 and 32\n",
    "  init_pop_i = [random.randint(0, 32) for _ in range(5)]\n",
    "  print(\"Initial population - integers:    \", init_pop_i)\n",
    "\n",
    "  # Convert each integer to its 6-digit binary representation\n",
    "  init_pop_b = [format(number, '06b') for number in init_pop_i]\n",
    "  print(\"Initial population - binary repr.:\",init_pop_b)\n",
    "\n",
    "  # Evaluate population fitness\n",
    "  fit_pop = [f(x) for x in init_pop_i]\n",
    "  print(\"Population fitness:               \", fit_pop)\n",
    "\n",
    "  # Evaluate population fitness in percentage\n",
    "  s = sum(fit_pop)\n",
    "  fit_pop_p = [format(x/s, '.1%') for x in fit_pop]\n",
    "\n",
    "  print(\"Population fitness [%]:           \", fit_pop_p)\n",
    "\n",
    "  print(\"Total fitness:\", s)\n",
    "\n",
    "  print(\"Maximum fitness:\", max(fit_pop))\n",
    "\n",
    "  print(\"Best initial individual:\", init_pop_i[fit_pop.index(max(fit_pop))], '[', init_pop_b[fit_pop.index(max(fit_pop))], ']' )\n",
    "\n",
    "  new_gen_i = init_pop_i\n",
    "  new_gen_b = init_pop_b"
   ]
  },
  {
   "cell_type": "code",
   "execution_count": null,
   "metadata": {},
   "outputs": [],
   "source": [
    "# O que seria meu individuo?\n",
    "-> \n",
    "\n",
    "# O que seria o Genoma e quais os genes?\n",
    "GENOMA = [fator aprendizado, velocidade_deslocamento, autapse]\n",
    "\n",
    "# E qual seria a funcao de fitness?\n",
    "\n"
   ]
  }
 ],
 "metadata": {
  "language_info": {
   "name": "python"
  }
 },
 "nbformat": 4,
 "nbformat_minor": 2
}
