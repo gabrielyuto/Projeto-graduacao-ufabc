{
 "cells": [
  {
   "cell_type": "code",
   "execution_count": 1,
   "id": "initial_id",
   "metadata": {
    "ExecuteTime": {
     "end_time": "2024-11-15T13:51:27.831989Z",
     "start_time": "2024-11-15T13:51:27.829238Z"
    },
    "collapsed": true
   },
   "outputs": [],
   "source": [
    "# Importing the libs\n",
    "import random\n",
    "import numpy as np\n",
    "import matplotlib.pyplot as plt"
   ]
  },
  {
   "cell_type": "code",
   "execution_count": 2,
   "id": "e502c179ff881ba0",
   "metadata": {},
   "outputs": [],
   "source": [
    "# Defining the fitness function as: -x**2+32*x\n",
    "\n",
    "def f(x):\n",
    "  return max(-x**2+32*x, 0)"
   ]
  },
  {
   "cell_type": "code",
   "execution_count": 3,
   "id": "cc033209c1cdd1d1",
   "metadata": {},
   "outputs": [
    {
     "data": {
      "image/png": "[encoded data removed]",
      "text/plain": [
       "<Figure size 640x480 with 1 Axes>"
      ]
     },
     "metadata": {},
     "output_type": "display_data"
    }
   ],
   "source": [
    "# Create a vector \"x\" of floats ranging from 0 to 32\n",
    "x = np.linspace(0, 32, 100)\n",
    "\n",
    "# Create another vector \"y\" with the value of the function \"f\" applied to \"x\"\n",
    "y = np.array([f(i) for i in x])\n",
    "\n",
    "# Plot x and y\n",
    "plt.plot(x, y)\n",
    "plt.xlabel(\"x\")\n",
    "plt.ylabel(\"f(x)\")\n",
    "plt.show()"
   ]
  },
  {
   "cell_type": "code",
   "execution_count": 4,
   "id": "3005e199bd710ac0",
   "metadata": {
    "ExecuteTime": {
     "end_time": "2024-11-15T13:53:33.928658Z",
     "start_time": "2024-11-15T13:52:37.212676Z"
    }
   },
   "outputs": [
    {
     "name": "stdout",
     "output_type": "stream",
     "text": [
      "Initial population - integers:     [7, 17, 25, 29, 19]\n",
      "Initial population - binary repr.: ['000111', '010001', '011001', '011101', '010011']\n",
      "Population fitness:                [175, 255, 175, 87, 247]\n",
      "Population fitness [%]:            ['18.6%', '27.2%', '18.6%', '9.3%', '26.3%']\n",
      "Total fitness: 939\n",
      "Maximum fitness: 255\n",
      "Best individual: 17 [ 010001 ]\n"
     ]
    }
   ],
   "source": [
    "# Generate the initial population between 0 and 32\n",
    "init_pop_i = [random.randint(0, 32) for _ in range(5)]\n",
    "print(\"Initial population - integers:    \", init_pop_i)\n",
    "\n",
    "# Convert each integer to its 6-digit binary representation\n",
    "init_pop_b = [format(number, '06b') for number in init_pop_i]\n",
    "print(\"Initial population - binary repr.:\",init_pop_b)\n",
    "\n",
    "# Evaluate population fitness\n",
    "fit_pop = [f(x) for x in init_pop_i]\n",
    "print(\"Population fitness:               \", fit_pop)\n",
    "\n",
    "# Evaluate population fitness in percentage\n",
    "s = sum(fit_pop)\n",
    "fit_pop_p = [format(x/s, '.1%') for x in fit_pop]\n",
    "\n",
    "print(\"Population fitness [%]:           \", fit_pop_p)\n",
    "\n",
    "print(\"Total fitness:\", s)\n",
    "\n",
    "print(\"Maximum fitness:\", max(fit_pop))\n",
    "\n",
    "print(\"Best individual:\", init_pop_i[fit_pop.index(max(fit_pop))], '[', init_pop_b[fit_pop.index(max(fit_pop))], ']' )\n",
    "\n",
    "new_gen_i = init_pop_i\n",
    "new_gen_b = init_pop_b"
   ]
  },
  {
   "cell_type": "code",
   "execution_count": 5,
   "id": "39f8cf4a3e9463b6",
   "metadata": {},
   "outputs": [
    {
     "name": "stdout",
     "output_type": "stream",
     "text": [
      "Original:  17 010001\n",
      "Mutated:   19 010011\n"
     ]
    }
   ],
   "source": [
    "# Select population for mutation\n",
    "\n",
    "mut_ind = random.randint(0, 4)\n",
    "mutated_i = new_gen_i[mut_ind]\n",
    "mutated_b = new_gen_b[mut_ind]\n",
    "\n",
    "print(\"Original: \", mutated_i, mutated_b)\n",
    "\n",
    "mut = random.randint(0, 5)\n",
    "\n",
    "new_bit = '1' if mutated_b[mut] == '0' else '0'\n",
    "mutated_b = mutated_b[:mut] + new_bit + mutated_b[mut + 1:]\n",
    "mutated_i = int(mutated_b, 2)\n",
    "\n",
    "print(\"Mutated:  \", mutated_i, mutated_b)\n",
    "\n",
    "new_gen_i[0] = mutated_i\n",
    "new_gen_b[0] = mutated_b\n"
   ]
  },
  {
   "cell_type": "code",
   "execution_count": 6,
   "id": "202077c71d678814",
   "metadata": {},
   "outputs": [
    {
     "name": "stdout",
     "output_type": "stream",
     "text": [
      "3\n",
      "Parents:  19 010011 17 010001\n",
      "Sons:     17 010001 19 010011\n"
     ]
    }
   ],
   "source": [
    "# Select population for crossover\n",
    "\n",
    "# Select 2 elements from init_pop with probability from fit_pop\n",
    "\n",
    "selected_elements = random.choices(new_gen_b, weights=fit_pop, k=2)\n",
    "#print(\"Selected elements:\", selected_elements)\n",
    "\n",
    "cross_pos = random.randint(1, 4)\n",
    "print(cross_pos)\n",
    "\n",
    "parent1 = selected_elements[0]\n",
    "parent2 = selected_elements[1]\n",
    "\n",
    "son1 = selected_elements[0][:cross_pos] + selected_elements[1][cross_pos:]\n",
    "son2 = selected_elements[1][:cross_pos] + selected_elements[0][cross_pos:]\n",
    "\n",
    "print(\"Parents: \", int(parent1, 2), parent1, int(parent2, 2), parent2)\n",
    "print(\"Sons:    \", int(son1, 2), son1, int(son2, 2), son2)"
   ]
  },
  {
   "cell_type": "code",
   "execution_count": 7,
   "id": "4693e8f580691fb8",
   "metadata": {},
   "outputs": [
    {
     "name": "stdout",
     "output_type": "stream",
     "text": [
      "Selected elements: [19, 25]\n"
     ]
    }
   ],
   "source": [
    "# Select population for reproduction\n",
    "\n",
    "# Select 2 elements from init_pop with probability from fit_pop\n",
    "\n",
    "selected_elements = random.choices(new_gen_i, weights=fit_pop, k=2)\n",
    "print(\"Selected elements:\", selected_elements)"
   ]
  },
  {
   "cell_type": "code",
   "execution_count": 8,
   "id": "de5141cd1344d697",
   "metadata": {},
   "outputs": [
    {
     "name": "stdout",
     "output_type": "stream",
     "text": [
      "Population - integers  : [19, 19, 25, 17, 19]\n",
      "Population - bin. Repr.: ['010011', '010011', '011001', '010001', '010011']\n",
      "Population fitness     : [247, 247, 175, 255, 247]\n",
      "Population fitness [%] : ['21.1%', '21.1%', '14.9%', '21.8%', '21.1%']\n",
      "Maximum fitness: 255\n",
      "Best individual: 17 [ 010001 ]\n"
     ]
    }
   ],
   "source": [
    "# Composing the new generation\n",
    "\n",
    "new_gen_i[0] = mutated_i\n",
    "new_gen_b[0] = mutated_b\n",
    "\n",
    "new_gen_i[1] = selected_elements[0]\n",
    "new_gen_i[2] = selected_elements[1]\n",
    "\n",
    "new_gen_i[3] = int(son1, 2)\n",
    "new_gen_i[4] = int(son2, 2)\n",
    "\n",
    "new_gen_b = [format(number, '06b') for number in new_gen_i]\n",
    "\n",
    "print(\"Population - integers  :\", new_gen_i)\n",
    "print(\"Population - bin. Repr.:\", new_gen_b)\n",
    "\n",
    "# Evaluate population fitness\n",
    "fit_pop = [f(x) for x in new_gen_i]\n",
    "print(\"Population fitness     :\", fit_pop)\n",
    "\n",
    "# Evaluate population fitness in percentage\n",
    "s = sum(fit_pop)\n",
    "fit_pop_p = [format(x/s, '.1%') for x in fit_pop]\n",
    "\n",
    "print(\"Population fitness [%] :\",fit_pop_p)\n",
    "\n",
    "print(\"Maximum fitness:\", max(fit_pop))\n",
    "\n",
    "print(\"Best individual:\", new_gen_i[fit_pop.index(max(fit_pop))], '[', new_gen_b[fit_pop.index(max(fit_pop))], ']' )"
   ]
  },
  {
   "cell_type": "code",
   "execution_count": 9,
   "id": "ca296db96d85770b",
   "metadata": {},
   "outputs": [],
   "source": [
    "def gen_init_pop():\n",
    "  # Generate the initial population between 0 and 32\n",
    "  init_pop_i = [random.randint(0, 32) for _ in range(5)]\n",
    "  print(\"Initial population - integers:    \", init_pop_i)\n",
    "\n",
    "  # Convert each integer to its 6-digit binary representation\n",
    "  init_pop_b = [format(number, '06b') for number in init_pop_i]\n",
    "  print(\"Initial population - binary repr.:\",init_pop_b)\n",
    "\n",
    "  # Evaluate population fitness\n",
    "  fit_pop = [f(x) for x in init_pop_i]\n",
    "  print(\"Population fitness:               \", fit_pop)\n",
    "\n",
    "  # Evaluate population fitness in percentage\n",
    "  s = sum(fit_pop)\n",
    "  fit_pop_p = [format(x/s, '.1%') for x in fit_pop]\n",
    "\n",
    "  print(\"Population fitness [%]:           \", fit_pop_p)\n",
    "\n",
    "  print(\"Total fitness:\", s)\n",
    "\n",
    "  print(\"Maximum fitness:\", max(fit_pop))\n",
    "\n",
    "  print(\"Best initial individual:\", init_pop_i[fit_pop.index(max(fit_pop))], '[', init_pop_b[fit_pop.index(max(fit_pop))], ']' )\n",
    "\n",
    "  new_gen_i = init_pop_i\n",
    "  new_gen_b = init_pop_b"
   ]
  },
  {
   "cell_type": "code",
   "execution_count": 10,
   "id": "e740d4bf5d343d8d",
   "metadata": {},
   "outputs": [],
   "source": [
    "def mutate():\n",
    "  # Select population for mutation\n",
    "\n",
    "  mut_ind = random.randint(0, 4)\n",
    "  mutated_i = new_gen_i[mut_ind]\n",
    "  mutated_b = new_gen_b[mut_ind]\n",
    "\n",
    "  #print(\"Original: \", mutated_i, mutated_b)\n",
    "\n",
    "  mut = random.randint(0, 5)\n",
    "\n",
    "  new_bit = '1' if mutated_b[mut] == '0' else '0'\n",
    "  mutated_b = mutated_b[:mut] + new_bit + mutated_b[mut + 1:]\n",
    "  mutated_i = int(mutated_b, 2)\n",
    "\n",
    "  #print(\"Mutated:  \", mutated_i, mutated_b)\n",
    "\n",
    "  new_gen_i[0] = mutated_i\n",
    "  new_gen_b[0] = mutated_b"
   ]
  },
  {
   "cell_type": "code",
   "execution_count": 11,
   "id": "5999cc1c2a9aa402",
   "metadata": {},
   "outputs": [],
   "source": [
    "def crossover():\n",
    "  # Select population for crossover\n",
    "\n",
    "  # Select 2 elements from init_pop with probability from fit_pop\n",
    "\n",
    "  selected_elements = random.choices(new_gen_b, weights=fit_pop, k=2)\n",
    "  #print(\"Selected elements:\", selected_elements)\n",
    "\n",
    "  cross_pos = random.randint(1, 4)\n",
    "  #print(cross_pos)\n",
    "\n",
    "  parent1 = selected_elements[0]\n",
    "  parent2 = selected_elements[1]\n",
    "\n",
    "  son1 = selected_elements[0][:cross_pos] + selected_elements[1][cross_pos:]\n",
    "  son2 = selected_elements[1][:cross_pos] + selected_elements[0][cross_pos:]\n",
    "\n",
    "  #print(\"Parents: \", int(parent1, 2), parent1, int(parent2, 2), parent2)\n",
    "  #print(\"Sons:    \", int(son1, 2), son1, int(son2, 2), son2)"
   ]
  },
  {
   "cell_type": "code",
   "execution_count": 12,
   "id": "d5de149878040290",
   "metadata": {},
   "outputs": [],
   "source": [
    "def reprod():\n",
    "  # Select population for reproduction\n",
    "\n",
    "  # Select 2 elements from init_pop with probability from fit_pop\n",
    "\n",
    "  selected_elements = random.choices(new_gen_i, weights=fit_pop, k=2)\n",
    "  #print(\"Selected elements:\", selected_elements)"
   ]
  },
  {
   "cell_type": "code",
   "execution_count": 13,
   "id": "e1a6b2249d8ae517",
   "metadata": {},
   "outputs": [],
   "source": [
    "def make_new_gen():\n",
    "  # Composing the new generation\n",
    "\n",
    "  #new_gen_i[0] = mutated_i\n",
    "  #new_gen_b[0] = mutated_b\n",
    "\n",
    "  new_gen_i[1] = selected_elements[0]\n",
    "  new_gen_i[2] = selected_elements[1]\n",
    "\n",
    "  new_gen_i[3] = int(son1, 2)\n",
    "  new_gen_i[4] = int(son2, 2)\n",
    "\n",
    "  new_gen_b = [format(number, '06b') for number in new_gen_i]\n",
    "\n",
    "  #print(\"Population - integers  :\", new_gen_i)\n",
    "  #print(\"Population - bin. Repr.:\", new_gen_b)\n",
    "\n",
    "  # Evaluate population fitness\n",
    "  fit_pop = [f(x) for x in new_gen_i]\n",
    "  #print(\"Population fitness     :\", fit_pop)\n",
    "\n",
    "  # Evaluate population fitness in percentage\n",
    "  s = sum(fit_pop)\n",
    "  fit_pop_p = [format(x/s, '.1%') for x in fit_pop]\n",
    "\n",
    "  #print(\"Population fitness [%] :\",fit_pop_p)\n",
    "\n",
    "  #print(\"Maximum fitness:\", max(fit_pop))\n",
    "\n",
    "  print(\"Best individual:\", new_gen_i[fit_pop.index(max(fit_pop))], '[', new_gen_b[fit_pop.index(max(fit_pop))], ']' )"
   ]
  },
  {
   "cell_type": "code",
   "execution_count": 14,
   "id": "3d3c6fcdd21c3982",
   "metadata": {},
   "outputs": [
    {
     "name": "stdout",
     "output_type": "stream",
     "text": [
      "Initial population - integers:     [30, 2, 13, 7, 31]\n",
      "Initial population - binary repr.: ['011110', '000010', '001101', '000111', '011111']\n",
      "Population fitness:                [60, 60, 247, 175, 31]\n",
      "Population fitness [%]:            ['10.5%', '10.5%', '43.1%', '30.5%', '5.4%']\n",
      "Total fitness: 573\n",
      "Maximum fitness: 247\n",
      "Best initial individual: 13 [ 001101 ]\n",
      "\n",
      "Evolving for 10 generations...\n",
      "Best individual: 17 [ 010001 ]\n",
      "Best individual: 17 [ 010001 ]\n",
      "Best individual: 17 [ 010001 ]\n",
      "Best individual: 17 [ 010001 ]\n",
      "Best individual: 17 [ 010001 ]\n",
      "Best individual: 17 [ 010001 ]\n",
      "Best individual: 17 [ 010001 ]\n",
      "Best individual: 17 [ 010001 ]\n",
      "Best individual: 17 [ 010001 ]\n",
      "Best individual: 17 [ 010001 ]\n"
     ]
    }
   ],
   "source": [
    "generations = 10\n",
    "gen_init_pop()\n",
    "print()\n",
    "print(\"Evolving for\", generations, \"generations...\")\n",
    "for _ in range(generations):\n",
    "  mutate()\n",
    "  crossover()\n",
    "  reprod()\n",
    "  make_new_gen()"
   ]
  },
  {
   "cell_type": "code",
   "execution_count": null,
   "id": "614c2f20fe1ee09",
   "metadata": {},
   "outputs": [],
   "source": []
  }
 ],
 "metadata": {
  "kernelspec": {
   "display_name": "venv",
   "language": "python",
   "name": "python3"
  },
  "language_info": {
   "codemirror_mode": {
    "name": "ipython",
    "version": 3
   },
   "file_extension": ".py",
   "mimetype": "text/x-python",
   "name": "python",
   "nbconvert_exporter": "python",
   "pygments_lexer": "ipython3",
   "version": "3.12.0"
  }
 },
 "nbformat": 4,
 "nbformat_minor": 5
}
